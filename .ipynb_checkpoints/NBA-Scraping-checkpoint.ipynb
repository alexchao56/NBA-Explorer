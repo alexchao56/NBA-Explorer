{
 "metadata": {
  "name": "",
  "signature": "sha256:d8affca6362b77ed127369f042033b9c13f51dccb5594e1341fb3ac23cc2c6d6"
 },
 "nbformat": 3,
 "nbformat_minor": 0,
 "worksheets": [
  {
   "cells": [
    {
     "cell_type": "code",
     "collapsed": false,
     "input": [
      "import requests\n",
      "import pandas as pd\n",
      "import json"
     ],
     "language": "python",
     "metadata": {},
     "outputs": [],
     "prompt_number": 5
    },
    {
     "cell_type": "code",
     "collapsed": false,
     "input": [
      "teams ={'wizards':{  \n",
      "                   'garrett temple':'202066',\n",
      "                   'andre miller':'1889',\n",
      "                   'kevin seraphin':'202338',\n",
      "                   'otto porter':'203490',\n",
      "                   'rasual butler':'2446',\n",
      "                   'kris humphries':'2743',\n",
      "                   'nene hilario':'2403',\n",
      "                   'paul pierce':'1718',\n",
      "                   'marcin gortat':'101162',\n",
      "                   'bradley beal':'203078',\n",
      "                   'john wall':'202322'\n",
      "                   }\n",
      "        }"
     ],
     "language": "python",
     "metadata": {},
     "outputs": [],
     "prompt_number": 6
    },
    {
     "cell_type": "code",
     "collapsed": false,
     "input": [
      "players = []  \n",
      "player_stats = {'name':None,'avg_dribbles':None,'avg_touch_time':None,'avg_shot_distance':None,'avg_defender_distance':None}\n",
      "\n",
      "def find_stats(name,player_id):  \n",
      "    #NBA Stats API using selected player ID\n",
      "    url = 'http://stats.nba.com/stats/playerdashptshotlog?'+ \\\n",
      "    'DateFrom=&DateTo=&GameSegment=&LastNGames=0&LeagueID=00&' + \\\n",
      "    'Location=&Month=0&OpponentTeamID=0&Outcome=&Period=0&' + \\\n",
      "    'PlayerID='+ player_id + '&Season=2014-15&SeasonSegment=&' + \\\n",
      "    'SeasonType=Regular+Season&TeamID=0&VsConference=&VsDivision='\n",
      "\n",
      "    #Create Dict based on JSON response\n",
      "    response = requests.get(url)\n",
      "    shots = response.json()['resultSets'][0]['rowSet']\n",
      "    data = json.loads(response.text)\n",
      "\n",
      "    #Create df from data and find averages \n",
      "    headers = data['resultSets'][0]['headers']\n",
      "    shot_data = data['resultSets'][0]['rowSet']\n",
      "    df = pd.DataFrame(shot_data,columns=headers) \n",
      "    avg_def = df['CLOSE_DEF_DIST'].mean(axis=1)\n",
      "    avg_dribbles = df['DRIBBLES'].mean(axis=1)\n",
      "    avg_shot_distance = df['SHOT_DIST'].mean(axis=1)\n",
      "    avg_touch_time = df['TOUCH_TIME'].mean(axis=1)\n",
      "\n",
      "    #add Averages to dictionary then to list\n",
      "    player_stats['name'] = name\n",
      "    player_stats['avg_defender_distance'] = avg_def\n",
      "    player_stats['avg_shot_distance'] = avg_shot_distance\n",
      "    player_stats['avg_touch_time'] = avg_touch_time\n",
      "    player_stats['avg_dribbles'] = avg_dribbles\n",
      "    players.append(player_stats.copy())"
     ],
     "language": "python",
     "metadata": {},
     "outputs": [],
     "prompt_number": 7
    },
    {
     "cell_type": "code",
     "collapsed": false,
     "input": [
      "for x in teams:  \n",
      "    for y in teams[x]:\n",
      "        find_stats(y,teams[x][y])"
     ],
     "language": "python",
     "metadata": {},
     "outputs": []
    },
    {
     "cell_type": "code",
     "collapsed": false,
     "input": [],
     "language": "python",
     "metadata": {},
     "outputs": []
    }
   ],
   "metadata": {}
  }
 ]
}